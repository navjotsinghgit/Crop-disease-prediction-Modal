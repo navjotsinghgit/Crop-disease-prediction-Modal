{
 "cells": [
  {
   "cell_type": "code",
   "execution_count": null,
   "metadata": {
    "colab": {
     "base_uri": "https://localhost:8080/"
    },
    "executionInfo": {
     "elapsed": 37896,
     "status": "ok",
     "timestamp": 1737637676433,
     "user": {
      "displayName": "Navjot singh",
      "userId": "04856675640404003343"
     },
     "user_tz": -330
    },
    "id": "RVCGkdwogKPt",
    "outputId": "ca6c5a69-bd40-4431-c1e6-7cb834956107"
   },
   "outputs": [],
   "source": []
  },
  {
   "cell_type": "code",
   "execution_count": 50,
   "metadata": {
    "colab": {
     "base_uri": "https://localhost:8080/",
     "height": 366
    },
    "executionInfo": {
     "elapsed": 3641,
     "status": "error",
     "timestamp": 1737637732118,
     "user": {
      "displayName": "Navjot singh",
      "userId": "04856675640404003343"
     },
     "user_tz": -330
    },
    "id": "o9XcN_vmg38P",
    "outputId": "cb6ff824-85b1-4871-e43f-9a987013792d"
   },
   "outputs": [],
   "source": [
    "# Import Libraries\n",
    "import warnings\n",
    "warnings.filterwarnings(\"ignore\")\n",
    "import os\n",
    "import glob\n",
    "import matplotlib.pyplot as plt\n",
    "# Keras API\n",
    "import keras\n",
    "from keras.models import Sequential\n",
    "from keras.layers import Dense,Dropout,Flatten\n",
    "from keras.layers import Conv2D,MaxPooling2D,Activation,AveragePooling2D,BatchNormalization\n",
    "from keras.preprocessing.image import ImageDataGenerator\n",
    "dataset_path = \"datassets\""
   ]
  },
  {
   "cell_type": "code",
   "execution_count": 51,
   "metadata": {
    "id": "3KoUJXj9ik2_"
   },
   "outputs": [],
   "source": [
    "test_dir =\"datassets\\plantvillagedata\\plantdisease_train_test\\Test_dir\"\n",
    "train_dir =\"datassets\\plantvillagedata\\plantdisease_train_test\\Train_dir\""
   ]
  },
  {
   "cell_type": "code",
   "execution_count": null,
   "metadata": {
    "colab": {
     "base_uri": "https://localhost:8080/",
     "height": 312
    },
    "id": "ip-f2nRsrso_",
    "outputId": "7a0266d7-32b2-456b-afad-5110e864d7a8"
   },
   "outputs": [],
   "source": [
    "import matplotlib.image as mpimg\n",
    "plt.figure(figsize=(12, 5))\n",
    "sp = plt.subplot(2, 5, 1)\n",
    "sp.axis('Off')\n",
    "\n",
    "img = mpimg.imread(\"datassets\\plantvillagedata\\plantdisease_train_test\\Train_dir\\Pepper,_bell___Bacterial_spot\\image (1).JPG\")\n",
    "plt.imshow(img)\n",
    "\n",
    "sp = plt.subplot(2, 5, 2)\n",
    "sp.axis('Off')\n",
    "img = mpimg.imread(\"datassets\\plantvillagedata\\plantdisease_train_test\\Train_dir\\Pepper,_bell___healthy\\image (1).JPG\")\n",
    "plt.imshow(img)\n",
    "\n",
    "sp = plt.subplot(2, 5, 3)\n",
    "sp.axis('Off')\n",
    "img = mpimg.imread(\"datassets\\plantvillagedata\\plantdisease_train_test\\Train_dir\\Potato___Early_blight\\image (1).JPG\")\n",
    "plt.imshow(img)\n",
    "\n",
    "sp = plt.subplot(2, 5, 4)\n",
    "sp.axis('Off')\n",
    "img = mpimg.imread(\"datassets\\plantvillagedata\\plantdisease_train_test\\Train_dir\\Tomato___Target_Spot\\image (1).JPG\")\n",
    "plt.imshow(img)\n",
    "\n",
    "sp = plt.subplot(2, 5, 5)\n",
    "sp.axis('Off')\n",
    "img = mpimg.imread(\"datassets\\plantvillagedata\\plantdisease_train_test\\Train_dir\\Tomato___Tomato_mosaic_virus\\image (1).JPG\")\n",
    "plt.imshow(img)\n",
    "\n",
    "\n",
    "sp = plt.subplot(2, 5, 6)\n",
    "sp.axis('Off')\n",
    "img = mpimg.imread(\"datassets\\plantvillagedata\\plantdisease_train_test\\Train_dir\\Tomato___Tomato_Yellow_Leaf_Curl_Virus\\image (1).JPG\")\n",
    "plt.imshow(img)\n",
    "\n",
    "sp = plt.subplot(2, 5, 7)\n",
    "sp.axis('Off')\n",
    "img = mpimg.imread(\"datassets\\plantvillagedata\\plantdisease_train_test\\Train_dir\\Tomato___Bacterial_spot\\image (1).JPG\")\n",
    "plt.imshow(img)\n",
    "\n",
    "sp = plt.subplot(2, 5, 8)\n",
    "sp.axis('Off')\n",
    "img = mpimg.imread(\"datassets\\plantvillagedata\\plantdisease_train_test\\Train_dir\\Tomato___Early_blight\\image (1).JPG\")\n",
    "plt.imshow(img)\n",
    "\n",
    "sp = plt.subplot(2, 5, 9)\n",
    "sp.axis('Off')\n",
    "img = mpimg.imread(\"datassets\\plantvillagedata\\plantdisease_train_test\\Train_dir\\Tomato___healthy\\image (1).JPG\")\n",
    "plt.imshow(img)\n",
    "\n",
    "sp = plt.subplot(2, 5, 10)\n",
    "sp.axis('Off')\n",
    "img = mpimg.imread(\"datassets\\plantvillagedata\\plantdisease_train_test\\Train_dir\\Tomato___Late_blight\\image (1).jpeg\")\n",
    "plt.imshow(img)\n",
    "\n"
   ]
  },
  {
   "cell_type": "code",
   "execution_count": 53,
   "metadata": {
    "id": "CGx5-TibjLMn"
   },
   "outputs": [],
   "source": [
    "# function to get count of images\n",
    "def get_files(directory):\n",
    "  if not os.path.exists(directory):\n",
    "    return 0\n",
    "  count=0\n",
    "  for current_path,dirs,files in os.walk(directory):\n",
    "    for dr in dirs:\n",
    "      count+= len(glob.glob(os.path.join(current_path,dr+\"/*\")))\n",
    "  return count"
   ]
  },
  {
   "cell_type": "code",
   "execution_count": null,
   "metadata": {
    "colab": {
     "base_uri": "https://localhost:8080/"
    },
    "id": "uE1cHgPijwx1",
    "outputId": "25a75731-949d-4e53-d327-cf1aaffbdabb"
   },
   "outputs": [],
   "source": [
    "train_samples =get_files(train_dir)\n",
    "num_classes=len(glob.glob(train_dir+\"/*\"))\n",
    "test_samples=get_files(test_dir) # For testing i took only few samples from unseen data. we can evaluate using validation data which is part of train data.\n",
    "print(num_classes,\"Classes\")\n",
    "print(train_samples,\"Train images\")\n",
    "print(test_samples,\"Test images\")"
   ]
  },
  {
   "cell_type": "code",
   "execution_count": 55,
   "metadata": {
    "id": "d-CTlyJ_usrY"
   },
   "outputs": [],
   "source": [
    "# Preprocessing data. Data Augmentation\n",
    "train_datagen= ImageDataGenerator(rescale=1/255,\n",
    "                                   shear_range=0.2,\n",
    "                                   zoom_range=0.2,\n",
    "                                   validation_split=0.2, # validation split 20%.\n",
    "                                   horizontal_flip=True)\n",
    "test_datagen=ImageDataGenerator(rescale=1/255)"
   ]
  },
  {
   "cell_type": "code",
   "execution_count": null,
   "metadata": {
    "colab": {
     "base_uri": "https://localhost:8080/"
    },
    "id": "H8NqDpMysS_K",
    "outputId": "cdf81b13-b2eb-46e7-e2c5-0a036bfc9d68"
   },
   "outputs": [],
   "source": [
    "# set height and width of input image.\n",
    "img_width,img_height =256,256\n",
    "input_shape=(img_width,img_height,3)\n",
    "#batch_size =16\n",
    "batch_size =32\n",
    "\n",
    "train_generator =train_datagen.flow_from_directory(train_dir,\n",
    "                                                   target_size=(img_width,img_height),\n",
    "                                                   batch_size=batch_size)\n",
    "test_generator=test_datagen.flow_from_directory(test_dir,shuffle=True,\n",
    "                                                   target_size=(img_width,img_height),\n",
    "                                                   batch_size=batch_size)"
   ]
  },
  {
   "cell_type": "code",
   "execution_count": null,
   "metadata": {
    "colab": {
     "base_uri": "https://localhost:8080/"
    },
    "id": "RMBDe-RLg1Na",
    "outputId": "e3268831-6ab0-4242-c9d5-6deaa21486aa"
   },
   "outputs": [],
   "source": [
    "# The name of the 15 diseases.\n",
    "train_generator.class_indices"
   ]
  },
  {
   "cell_type": "code",
   "execution_count": null,
   "metadata": {
    "colab": {
     "base_uri": "https://localhost:8080/"
    },
    "id": "02pX54IExHAI",
    "outputId": "8ddb7a47-4320-4b4d-b369-ec9ddebc4f06"
   },
   "outputs": [],
   "source": [
    "# CNN building.\n",
    "model = Sequential()\n",
    "#input_shape=(img_width,img_height,3)\n",
    "\n",
    "#op matrix = n - f+1 = 252 = 256 - 5 +1\n",
    "model.add(Conv2D(32, (5, 5),input_shape=input_shape,activation='relu'))\n",
    "\n",
    "#252 / 3 = 84\n",
    "model.add(MaxPooling2D(pool_size=(3, 3))) # 84\n",
    "\n",
    "# 82 = 84 - 3+ 1\n",
    "model.add(Conv2D(32, (3, 3),activation='relu')) # 82\n",
    "\n",
    "#82/2 = 41\n",
    "model.add(MaxPooling2D(pool_size=(2, 2))) # 41\n",
    "\n",
    "#39 = 41 - 3+1\n",
    "model.add(Conv2D(64, (3, 3),activation='relu'))\n",
    "\n",
    "#39/2 = 19.5 ~ 19\n",
    "model.add(MaxPooling2D(pool_size=(2, 2)))#19\n",
    "\n",
    "model.add(Flatten())\n",
    "#to put the data into diffrent diffrent dimention we use dense layer\n",
    "#we have 15 classes so we took 15 dense layer at the end of the model\n",
    "#this is best for multi class classification.\n",
    "model.add(Dense(512,activation='relu'))\n",
    "model.add(Dropout(0.25))\n",
    "model.add(Dense(128,activation='relu'))\n",
    "\n",
    "#Fully Connected Layer: we pass our flatten vector into input Layer .\n",
    "#we combined these features to create a model. Finally, we have an activation\n",
    "#function such as softmax or sigmoid to classify the outputs.\n",
    "\n",
    "#Softmax is used for multi-classification in the Logistic Regression model,\n",
    "#whereas Sigmoid is used for binary classification in the Logistic Regression model\n",
    "\n",
    "model.add(Dense(num_classes,activation='softmax'))\n",
    "model.summary()"
   ]
  },
  {
   "cell_type": "code",
   "execution_count": null,
   "metadata": {
    "id": "gczhd8-LUHS4"
   },
   "outputs": [],
   "source": []
  },
  {
   "cell_type": "code",
   "execution_count": null,
   "metadata": {
    "colab": {
     "base_uri": "https://localhost:8080/"
    },
    "id": "MR5A-tIKR8oY",
    "outputId": "ad493682-ccfc-43cd-926a-b4bbafa6ac9d"
   },
   "outputs": [],
   "source": [
    "model_layers = [ layer.name for layer in model.layers]\n",
    "print('layer name : ',model_layers)"
   ]
  },
  {
   "cell_type": "code",
   "execution_count": null,
   "metadata": {
    "colab": {
     "base_uri": "https://localhost:8080/",
     "height": 1000
    },
    "id": "cVbyx9Zaweez",
    "outputId": "92a0436f-7924-4f45-fdb0-a732c6b37176"
   },
   "outputs": [],
   "source": [
    "keras.utils.plot_model(model,\"my_CNN_model.png\")"
   ]
  },
  {
   "cell_type": "code",
   "execution_count": null,
   "metadata": {
    "colab": {
     "base_uri": "https://localhost:8080/",
     "height": 269
    },
    "id": "uEpegULD-jHG",
    "outputId": "e51eb794-d88e-4b79-c447-79ac9a12f187"
   },
   "outputs": [],
   "source": [
    "# Take one image to visualize it's changes after every layer\n",
    "from keras.preprocessing import image\n",
    "import numpy as np\n",
    "img1 = image.load_img('datassets\\plantvillagedata\\plantdisease_train_test\\Train_dir\\Tomato___Bacterial_spot\\image (1).JPG')\n",
    "plt.imshow(img1)\n",
    "\n",
    "#preprocess image\n",
    "img1 = image.load_img('datassets\\plantvillagedata\\plantdisease_train_test\\Train_dir\\Tomato___Bacterial_spot\\image (1).JPG', target_size=(256, 256))\n",
    "img = image.img_to_array(img1)\n",
    "img = img/255\n",
    "img = np.expand_dims(img, axis=0)"
   ]
  },
  {
   "cell_type": "markdown",
   "metadata": {
    "id": "wvkC_kZ6bF1X"
   },
   "source": []
  },
  {
   "cell_type": "code",
   "execution_count": null,
   "metadata": {
    "colab": {
     "base_uri": "https://localhost:8080/"
    },
    "id": "CCjt2wHNSC28",
    "outputId": "ac7e1c29-b4bf-4aa3-ff2a-5cc4733c29d3"
   },
   "outputs": [],
   "source": [
    "# Visualizing output after every layer.\n",
    "from keras.models import Model\n",
    "conv2d_6_output = Model(inputs=model.input, outputs=model.get_layer('conv2d_6').output)\n",
    "max_pooling2d_6_output = Model(inputs=model.input,outputs=model.get_layer('max_pooling2d_6').output)\n",
    "\n",
    "conv2d_7_output = Model(inputs=model.input,outputs=model.get_layer('conv2d_7').output)\n",
    "max_pooling2d_7_output = Model(inputs=model.input,outputs=model.get_layer('max_pooling2d_7').output)\n",
    "\n",
    "conv2d_8_output = Model(inputs=model.input,outputs=model.get_layer('conv2d_8').output)\n",
    "max_pooling2d_8_output = Model(inputs=model.input,outputs=model.get_layer('max_pooling2d_8').output)\n",
    "flatten_2_output = Model(inputs=model.input,outputs=model.get_layer('flatten_2').output)\n",
    "\n",
    "conv2d_6_features = conv2d_6_output.predict(img)\n",
    "max_pooling2d_6_features = max_pooling2d_6_output.predict(img)\n",
    "\n",
    "conv2d_7_features = conv2d_7_output.predict(img)\n",
    "max_pooling2d_7_features = max_pooling2d_7_output.predict(img)\n",
    "\n",
    "conv2d_8_features = conv2d_8_output.predict(img)\n",
    "max_pooling2d_8_features = max_pooling2d_8_output.predict(img)\n",
    "flatten_2_features = flatten_2_output.predict(img)\n"
   ]
  },
  {
   "cell_type": "code",
   "execution_count": null,
   "metadata": {},
   "outputs": [],
   "source": [
    "#  Visualizing output after every layer.\n",
    "from keras.models import Model\n",
    "conv2d_6_output = Model(inputs=model.input, outputs=model.get_layer('conv2d_6').output)\n",
    "max_pooling2d_6_output = Model(inputs=model.input,outputs=model.get_layer('max_pooling2d_6').output)\n",
    "\n",
    "conv2d_7_output = Model(inputs=model.input,outputs=model.get_layer('conv2d_7').output)\n",
    "max_pooling2d_7_output = Model(inputs=model.input,outputs=model.get_layer('max_pooling2d_7').output)\n",
    "\n",
    "conv2d_8_output = Model(inputs=model.input,outputs=model.get_layer('conv2d_8').output)\n",
    "max_pooling2d_8_output = Model(inputs=model.input,outputs=model.get_layer('max_pooling2d_8').output)\n",
    "flatten_2_output = Model(inputs=model.input,outputs=model.get_layer('flatten_2').output)\n",
    "\n",
    "conv2d_6_features = conv2d_6_output.predict(img)\n",
    "max_pooling2d_6_features = max_pooling2d_6_output.predict(img)\n",
    "\n",
    "conv2d_7_features = conv2d_7_output.predict(img)\n",
    "max_pooling2d_7_features = max_pooling2d_7_output.predict(img)\n",
    "\n",
    "conv2d_8_features = conv2d_8_output.predict(img)\n",
    "max_pooling2d_8_features = max_pooling2d_8_output.predict(img)\n",
    "flatten_2_features = flatten_2_output.predict(img)\n"
   ]
  },
  {
   "cell_type": "code",
   "execution_count": null,
   "metadata": {
    "colab": {
     "base_uri": "https://localhost:8080/",
     "height": 427
    },
    "id": "5Wu8JY_FbaHu",
    "outputId": "94f063eb-d789-43d1-f993-11d36575a1c1"
   },
   "outputs": [],
   "source": [
    "import matplotlib.image as mpimg\n",
    "\n",
    "fig=plt.figure(figsize=(14,7))\n",
    "columns = 8\n",
    "rows = 4\n",
    "for i in range(columns*rows):\n",
    "    #img = mpimg.imread()\n",
    "    fig.add_subplot(rows, columns, i+1)\n",
    "    plt.axis('off')\n",
    "    plt.title('filter'+str(i))\n",
    "    plt.imshow(conv2d_6_features[0, :, :, i], cmap='viridis') # Visualizing in color mode.\n",
    "plt.show()\n"
   ]
  },
  {
   "cell_type": "code",
   "execution_count": null,
   "metadata": {},
   "outputs": [],
   "source": [
    "for layer in model.layers :\n",
    "    print(layer.name)"
   ]
  },
  {
   "cell_type": "code",
   "execution_count": null,
   "metadata": {
    "colab": {
     "base_uri": "https://localhost:8080/",
     "height": 427
    },
    "id": "EhD7gO5ieRX-",
    "outputId": "251a04c1-65fa-4604-c6f9-edca4f7a5477"
   },
   "outputs": [],
   "source": [
    "import matplotlib.image as mpimg\n",
    "\n",
    "fig=plt.figure(figsize=(14,7))\n",
    "columns = 8\n",
    "rows = 4\n",
    "for i in range(columns*rows):\n",
    "    #img = mpimg.imread()\n",
    "    fig.add_subplot(rows, columns, i+1)\n",
    "    plt.axis('off')\n",
    "    plt.title('filter'+str(i))\n",
    "    plt.imshow(max_pooling2d_6_features[0, :, :, i], cmap='viridis')\n",
    "plt.show()"
   ]
  },
  {
   "cell_type": "code",
   "execution_count": null,
   "metadata": {},
   "outputs": [],
   "source": [
    "for layer in model.layers :\n",
    "    print(layer.name)"
   ]
  },
  {
   "cell_type": "code",
   "execution_count": null,
   "metadata": {
    "colab": {
     "base_uri": "https://localhost:8080/",
     "height": 427
    },
    "id": "1YgyE3AdcAO2",
    "outputId": "c28e4cd6-ea75-4684-83d7-faafc773996a"
   },
   "outputs": [],
   "source": [
    "import matplotlib.image as mpimg\n",
    "\n",
    "fig=plt.figure(figsize=(14,7))\n",
    "columns = 8\n",
    "rows = 4\n",
    "for i in range(columns*rows):\n",
    "    #img = mpimg.imread()\n",
    "    fig.add_subplot(rows, columns, i+1)\n",
    "    plt.axis('off')\n",
    "    plt.title('filter'+str(i))\n",
    "    plt.imshow(conv2d_7_features[0, :, :, i], cmap='viridis')\n",
    "plt.show()"
   ]
  },
  {
   "cell_type": "code",
   "execution_count": null,
   "metadata": {
    "colab": {
     "base_uri": "https://localhost:8080/",
     "height": 427
    },
    "id": "mNhrHwPJeljn",
    "outputId": "12c534af-002d-4257-e347-2c042dbd2f6d"
   },
   "outputs": [],
   "source": [
    "# we can also visualize in color mode.\n",
    "import matplotlib.image as mpimg\n",
    "\n",
    "fig=plt.figure(figsize=(14,7))\n",
    "columns = 8\n",
    "rows = 4\n",
    "for i in range(columns*rows):\n",
    "    #img = mpimg.imread()\n",
    "    fig.add_subplot(rows, columns, i+1)\n",
    "    plt.axis('off')\n",
    "    plt.title('filter'+str(i))\n",
    "    plt.imshow(max_pooling2d_7_features[0, :, :, i], cmap='viridis')\n",
    "plt.show()"
   ]
  },
  {
   "cell_type": "code",
   "execution_count": null,
   "metadata": {
    "colab": {
     "base_uri": "https://localhost:8080/",
     "height": 880
    },
    "id": "7uzflC4McLst",
    "outputId": "02c22ce6-2070-42fd-c797-b1ca39aef36d"
   },
   "outputs": [],
   "source": [
    "import matplotlib.image as mpimg\n",
    "\n",
    "fig=plt.figure(figsize=(16,16))\n",
    "columns =8\n",
    "rows = 8\n",
    "for i in range(columns*rows):\n",
    "    #img = mpimg.imread()\n",
    "    fig.add_subplot(rows, columns, i+1)\n",
    "    plt.axis('off')\n",
    "    plt.title('filter'+str(i))\n",
    "    plt.imshow(conv2d_8_features[0, :, :, i], cmap='viridis')\n",
    "plt.show()"
   ]
  },
  {
   "cell_type": "code",
   "execution_count": null,
   "metadata": {
    "colab": {
     "base_uri": "https://localhost:8080/",
     "height": 808
    },
    "id": "d1uo495ie2wq",
    "outputId": "2b1d178b-368b-427d-b839-ff7e95b38f02"
   },
   "outputs": [],
   "source": [
    "import matplotlib.image as mpimg\n",
    "\n",
    "fig=plt.figure(figsize=(14,14))\n",
    "columns = 8\n",
    "rows = 8\n",
    "for i in range(columns*rows):\n",
    "    #img = mpimg.imread()\n",
    "    fig.add_subplot(rows, columns, i+1)\n",
    "    plt.axis('off')\n",
    "    plt.title('filter'+str(i))\n",
    "    plt.imshow(max_pooling2d_8_features[0, :, :, i],cmap='viridis')\n",
    "plt.show()"
   ]
  },
  {
   "cell_type": "code",
   "execution_count": null,
   "metadata": {
    "colab": {
     "base_uri": "https://localhost:8080/"
    },
    "id": "qv_ow-jPBDnQ",
    "outputId": "a2b967db-6229-424b-9eea-4792a67acd7e"
   },
   "outputs": [],
   "source": [
    "# validation data.\n",
    "validation_generator = train_datagen.flow_from_directory(\n",
    "    train_dir, # same directory as training data\n",
    "    target_size=(img_height, img_width),\n",
    "    batch_size=batch_size)"
   ]
  },
  {
   "cell_type": "code",
   "execution_count": null,
   "metadata": {
    "colab": {
     "base_uri": "https://localhost:8080/"
    },
    "id": "d1GPempn06uE",
    "outputId": "e3d145de-ac02-4c5b-ced9-29e5eb0cfb67"
   },
   "outputs": [],
   "source": [
    "# Model building to get trained with parameters.\n",
    "opt=keras.optimizers.Adam(lr=0.001)\n",
    "model.compile(optimizer=opt,loss='categorical_crossentropy',metrics=['accuracy'])\n",
    "train=model.fit_generator(train_generator,\n",
    "                          epochs=10,\n",
    "                          steps_per_epoch=train_generator.samples // batch_size,\n",
    "\n",
    "                          validation_data=validation_generator,\n",
    "                        verbose=1)\n",
    "\n"
   ]
  },
  {
   "cell_type": "markdown",
   "metadata": {
    "id": "AYpo1Sr5AXv-"
   },
   "source": [
    "# `7.Plot For Accuracy And Losses.`"
   ]
  },
  {
   "cell_type": "code",
   "execution_count": null,
   "metadata": {
    "colab": {
     "base_uri": "https://localhost:8080/",
     "height": 545
    },
    "id": "O_SLJxPxvORf",
    "outputId": "a26e5b52-4ba7-4e27-c88f-fd68626c5189"
   },
   "outputs": [],
   "source": [
    "\n",
    "from keras.callbacks import History\n",
    "#history = History()\n",
    "\n",
    "acc = train.history['accuracy']\n",
    "val_acc = train.history['val_accuracy']\n",
    "loss = train.history['loss']\n",
    "val_loss = train.history['val_loss']\n",
    "\n",
    "epochs = range(1, len(acc) + 1)\n",
    "#Train and validation accuracy\n",
    "plt.plot(epochs, acc, 'b', label='Training accurarcy')\n",
    "plt.plot(epochs, val_acc, 'r', label='Validation accurarcy')\n",
    "plt.title('Training and Validation accurarcy')\n",
    "plt.legend()\n",
    "\n",
    "plt.figure()\n",
    "#Train and validation loss\n",
    "plt.plot(epochs, loss, 'b', label='Training loss')\n",
    "plt.plot(epochs, val_loss, 'r', label='Validation loss')\n",
    "plt.title('Training and Validation loss')\n",
    "plt.legend()\n",
    "plt.show()"
   ]
  },
  {
   "cell_type": "markdown",
   "metadata": {
    "id": "T2qQ20VwUPvO"
   },
   "source": [
    "# `8. Evaluate model using unseen data.`\n"
   ]
  },
  {
   "cell_type": "code",
   "execution_count": null,
   "metadata": {
    "colab": {
     "base_uri": "https://localhost:8080/"
    },
    "id": "sWsPrcGkWBYC",
    "outputId": "e116785a-22f3-428b-889f-886054ec85a0"
   },
   "outputs": [],
   "source": [
    "score,accuracy =model.evaluate(test_generator,verbose=1)\n",
    "print(\"Test score is {}\".format(score))\n",
    "print(\"Test accuracy is {}\".format(accuracy))"
   ]
  },
  {
   "cell_type": "markdown",
   "metadata": {
    "id": "BYs8zwNeAJE-"
   },
   "source": [
    "# `9.Saving Model.`"
   ]
  },
  {
   "cell_type": "code",
   "execution_count": 100,
   "metadata": {
    "id": "xZuavjSmz6wb"
   },
   "outputs": [],
   "source": [
    "# Save entire model with optimizer, architecture, weights and training configuration.\n",
    "from keras.models import load_model\n",
    "model.save('crop.h5')"
   ]
  },
  {
   "cell_type": "code",
   "execution_count": 79,
   "metadata": {
    "id": "sF46Kp3JEEfT"
   },
   "outputs": [],
   "source": [
    "# Save model weights.\n",
    "from keras.models import load_model\n",
    "model.save_weights('crop_weights.h5')"
   ]
  },
  {
   "cell_type": "code",
   "execution_count": null,
   "metadata": {
    "colab": {
     "base_uri": "https://localhost:8080/"
    },
    "id": "qooFmBja9sQn",
    "outputId": "2f90f7c1-a797-4e5f-af43-922da80b6f64"
   },
   "outputs": [],
   "source": [
    "# Get classes of model trained on\n",
    "classes = train_generator.class_indices\n",
    "classes\n"
   ]
  },
  {
   "cell_type": "markdown",
   "metadata": {
    "id": "SwbrCZY8_41b"
   },
   "source": [
    "# `10.Load Model.`"
   ]
  },
  {
   "cell_type": "code",
   "execution_count": 81,
   "metadata": {
    "id": "pFeWlgy_5oSy"
   },
   "outputs": [],
   "source": [
    "# Loading model and predict.\n",
    "from keras.models import load_model\n",
    "model=load_model('crop.h5')\n",
    "\n",
    "Classes = [\"Pepper__bell___Bacterial_spot\",\n",
    "           \"Pepper__bell___healthy\",\n",
    "           \"Potato___Early_blight\",\n",
    "           \"Potato___Late_blight\",\"Potato___healthy\",\"Tomato_Bacterial_spot\",\"Tomato_Early_blight\",\n",
    "           \"Tomato_Late_blight\",\"Tomato_Leaf_Mold\",\"Tomato_Septoria_leaf_spot\",\"Tomato_Spider_mites_Two_spotted_spider_mite\",\n",
    "           \"Tomato__Target_Spot\",\"Tomato__Tomato_YellowLeaf__Curl_Virus\",\"Tomato__Tomato_mosaic_virus\",\n",
    "           \"Tomato_healthy\"]\n"
   ]
  },
  {
   "cell_type": "markdown",
   "metadata": {
    "id": "u3w5ndzU_Qqi"
   },
   "source": [
    "# `11.Time For Predictions.`"
   ]
  },
  {
   "cell_type": "code",
   "execution_count": null,
   "metadata": {
    "colab": {
     "base_uri": "https://localhost:8080/",
     "height": 324
    },
    "id": "7Crovs5tgVpx",
    "outputId": "7a5c5304-b522-47a0-b780-874ecbb18e09"
   },
   "outputs": [],
   "source": [
    "import numpy as np\n",
    "import matplotlib.pyplot as plt\n",
    "\n",
    "# Pre-Processing test data same as train data.\n",
    "img_width=256\n",
    "img_height=256\n",
    "#model.compile(optimizer='adam',loss='categorical_crossentropy',metrics=['accuracy'])\n",
    "\n",
    "from keras.preprocessing import image\n",
    "\n",
    "def prepare(img_path):\n",
    "    img = image.load_img(img_path, target_size=(256, 256))\n",
    "    x = image.img_to_array(img)\n",
    "    x = x/255\n",
    "    return np.expand_dims(x, axis=0)\n",
    "\n",
    "\n",
    "result = model.predict_classes([prepare('datassets\\plantvillagedata\\plantdisease_train_test\\Train_dir\\Potato___Early_blight\\image (1).JPG')])\n",
    "disease = image.load_img('datassets\\plantvillagedata\\plantdisease_train_test\\Train_dir\\Potato___Early_blight\\image (1).JPG')\n",
    "plt.imshow(disease)\n",
    "print (Classes[int(result)])"
   ]
  },
  {
   "cell_type": "code",
   "execution_count": null,
   "metadata": {},
   "outputs": [],
   "source": [
    "# Visualizing output after every layer.\n",
    "from keras.models import Model\n",
    "conv2d_1_output = Model(inputs=model.input, outputs=model.get_layer('conv2d_31').output)\n",
    "max_pooling2d_1_output = Model(inputs=model.input,outputs=model.get_layer('max_pooling2d_9').output)\n",
    "\n",
    "conv2d_2_output = Model(inputs=model.input,outputs=model.get_layer('conv2d_32').output)\n",
    "max_pooling2d_2_output = Model(inputs=model.input,outputs=model.get_layer('max_pooling2d_10').output)\n",
    "\n",
    "conv2d_3_output = Model(inputs=model.input,outputs=model.get_layer('conv2d_33').output)\n",
    "max_pooling2d_3_output = Model(inputs=model.input,outputs=model.get_layer('max_pooling2d_11').output)\n",
    "flatten_1_output = Model(inputs=model.input,outputs=model.get_layer('flatten_3').output)\n",
    "\n",
    "conv2d_1_features = conv2d_1_output.predict(img)\n",
    "max_pooling2d_1_features = max_pooling2d_1_output.predict(img)\n",
    "\n",
    "conv2d_2_features = conv2d_2_output.predict(img)\n",
    "max_pooling2d_2_features = max_pooling2d_2_output.predict(img)\n",
    "\n",
    "conv2d_3_features = conv2d_3_output.predict(img)\n",
    "max_pooling2d_3_features = max_pooling2d_3_output.predict(img)\n",
    "flatten_1_features = flatten_1_output.predict(img)\n"
   ]
  },
  {
   "cell_type": "code",
   "execution_count": null,
   "metadata": {
    "colab": {
     "base_uri": "https://localhost:8080/",
     "height": 287
    },
    "id": "OqtIkT4bKp_L",
    "outputId": "b13a679b-b3af-41a2-a42e-b397e2b2e147"
   },
   "outputs": [],
   "source": [
    "from keras.preprocessing import image\n",
    "import numpy as np \n",
    "import matplotlib.pyplot as plt\n",
    "classes = ['healthy', 'deseased']\n",
    "def prepare(img_path):\n",
    "    img=image.load_img(img_path,target_size=(256,256))\n",
    "    x=image.img_to_array(img)\n",
    "    x=x/255\n",
    "    return np.expand_dims(x,axis=0)\n",
    "img_path = 'datassets\\plantvillagedata\\plantdisease_train_test\\Train_dir\\Tomato___healthy\\image (1).JPG'\n",
    "result= model.predict(prepare(img_path))\n",
    "result_class=np.argmax(result)\n",
    "print(\"model prediction output:\",result)\n",
    "print(\"predicted class index:\",result_class)\n",
    "print(\"number of classes:\",len(classes))\n",
    "disease = image.load_img(img_path)\n",
    "plt.imshow(disease)\n",
    "plt.show()\n"
   ]
  },
  {
   "cell_type": "markdown",
   "metadata": {
    "id": "EXsCoNhv8_oE"
   },
   "source": [
    "# `12.Convert Model To \"tflite format.\"`.\n",
    "- This conversion is done because to make our model interpertable with App.\n",
    "- tflite is tensorflowlite made for mobile versions."
   ]
  },
  {
   "cell_type": "code",
   "execution_count": 106,
   "metadata": {
    "id": "9oaFo9BH-Bgh"
   },
   "outputs": [],
   "source": [
    "import tensorflow as tf\n",
    "import numpy as np\n",
    "from tensorflow import lite\n",
    "model=tf.keras.models.load_model('crop.h5')\n",
    "\n",
    "converter = tf.lite.TFLiteConverter.from_keras_model('crop.h5')\n",
    "\n",
    "\n"
   ]
  },
  {
   "cell_type": "code",
   "execution_count": null,
   "metadata": {},
   "outputs": [],
   "source": [
    "print('the name of the modal')"
   ]
  },
  {
   "cell_type": "markdown",
   "metadata": {},
   "source": []
  }
 ],
 "metadata": {
  "accelerator": "GPU",
  "colab": {
   "provenance": []
  },
  "kernelspec": {
   "display_name": "CNN",
   "language": "python",
   "name": "python3"
  },
  "language_info": {
   "codemirror_mode": {
    "name": "ipython",
    "version": 3
   },
   "file_extension": ".py",
   "mimetype": "text/x-python",
   "name": "python",
   "nbconvert_exporter": "python",
   "pygments_lexer": "ipython3",
   "version": "3.8.18"
  }
 },
 "nbformat": 4,
 "nbformat_minor": 0
}
